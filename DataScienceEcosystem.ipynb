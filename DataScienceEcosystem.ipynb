{
  "nbformat": 4,
  "nbformat_minor": 0,
  "metadata": {
    "colab": {
      "provenance": []
    },
    "kernelspec": {
      "name": "python3",
      "display_name": "Python 3"
    },
    "language_info": {
      "name": "python"
    }
  },
  "cells": [
    {
      "cell_type": "markdown",
      "source": [
        "# Data Science Tools and Ecosystem"
      ],
      "metadata": {
        "id": "4mI6y97r4RbX"
      }
    },
    {
      "cell_type": "markdown",
      "source": [
        "In this notebook, Data Science Tools and Ecosystem are summarized."
      ],
      "metadata": {
        "id": "OlDXEDNs5PfC"
      }
    },
    {
      "cell_type": "markdown",
      "source": [
        "**Objectives:**\n",
        "- List popular languages for Data Science.\n",
        "- List some of the commonly used libraries used by Data Scientists.\n",
        "- Data science tools.\n",
        "- Examples of evaluating arithmetic expressions in Python."
      ],
      "metadata": {
        "id": "y7LK4gtsFE0G"
      }
    },
    {
      "cell_type": "markdown",
      "source": [
        "Some of the popular languages that Data Scientists use are:\n",
        "1. Python: the leading language in data science and machine learning.\n",
        "2. R: a powerful language for statistical computing and data science.\n",
        "3. SQL: basic language for data management and query."
      ],
      "metadata": {
        "id": "VHj-7U7N5qYC"
      }
    },
    {
      "cell_type": "markdown",
      "source": [
        "Some of the commonly used libraries used by Data Scientists include:\n",
        "- Pandas: commonly used in data science.\n",
        "- NumPy: mainly used for scientific computation.\n",
        "- Matplotlib: an extensive library for creating fixed, interactive, and animated Python visualizations."
      ],
      "metadata": {
        "id": "EWv0VeI-67lc"
      }
    },
    {
      "cell_type": "markdown",
      "source": [
        "| Data Science Tools |\n",
        "| -------------\n",
        "| Jupyter Notebooks |\n",
        "| Anaconda|\n",
        "| R Studio |"
      ],
      "metadata": {
        "id": "cEVaI_jN8lmq"
      }
    },
    {
      "cell_type": "markdown",
      "source": [
        "### Below are a few examples of evaluating arithmetic expressions in Python"
      ],
      "metadata": {
        "id": "zVQgsAHA_2TD"
      }
    },
    {
      "cell_type": "code",
      "source": [
        "# This a simple arithmetic expression to mutiply then add integers\n",
        "(3*4)+5"
      ],
      "metadata": {
        "colab": {
          "base_uri": "https://localhost:8080/"
        },
        "id": "mRsJqqO_BHIz",
        "outputId": "403f6ed2-5faa-4e08-ffe2-b1011382cd1d"
      },
      "execution_count": null,
      "outputs": [
        {
          "output_type": "execute_result",
          "data": {
            "text/plain": [
              "17"
            ]
          },
          "metadata": {},
          "execution_count": 1
        }
      ]
    },
    {
      "cell_type": "code",
      "source": [
        "# This will convert 200 minutes to hours by diving by 60\n",
        "minutes = 200\n",
        "hours= round(minutes/60,1)\n",
        "print(hours,'hours')"
      ],
      "metadata": {
        "colab": {
          "base_uri": "https://localhost:8080/"
        },
        "id": "fiK3pEXpBgLe",
        "outputId": "22eb02c5-da3f-41a3-e098-33c0a69ea809"
      },
      "execution_count": null,
      "outputs": [
        {
          "output_type": "stream",
          "name": "stdout",
          "text": [
            "3.3 hours\n"
          ]
        }
      ]
    },
    {
      "cell_type": "markdown",
      "source": [
        "## Author\n",
        "Raghad Mohammed"
      ],
      "metadata": {
        "id": "M7tSR_MTGnT4"
      }
    }
  ]
}